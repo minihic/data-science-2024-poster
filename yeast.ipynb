{
 "cells": [
  {
   "cell_type": "markdown",
   "metadata": {},
   "source": [
    "# Data Science - Poster Workshop\n",
    "# How can we analyze data in order to discover new insights that are eventually in?\n",
    "\n",
    "We are using the Yeast dataset from:     \n",
    "\n",
    "    Kenta Nakai\n",
    "    Institue of Molecular and Cellular Biology\n",
    "\tOsaka, University\n",
    "\t1-3 Yamada-oka, Suita 565 Japan\n",
    "    nakai@imcb.osaka-u.ac.jp\n",
    "    http://www.imcb.osaka-u.ac.jp/nakai/psort.html\n",
    "    Donor: Paul Horton (paulh@cs.berkeley.edu)\n",
    "    Date:  September, 1996\n",
    "    See also: ecoli database\n",
    "\n",
    "This dataset is available here in the [UCI Archive](https://archive.ics.uci.edu/dataset/110/yeast)\n",
    "\n",
    "For this data science poster workshop we will be seeing different ways of classifying the data"
   ]
  },
  {
   "cell_type": "markdown",
   "metadata": {},
   "source": [
    "### Here are the poster workshop specifications\n",
    "\n",
    "- The pw is organised at the end of the semester. The pw is based on the presentation of project.\n",
    "- A student can participate individually or as a member of a group of up to 3 students and thus take part in the project.\n",
    "- A project is defined as a performance in the sense of data science on a data set that is provided. Possibly, 2 or 3 data sets will be presented and each group can choose 1 of them.\n",
    "- The project work consists of demonstrating an aspect of the course using the selected dataset. The terminology must be used.\n",
    "- The PW is divided into two parts: \n",
    "\n",
    "    - Part 1 is an \"appetiser\" presentation in which the most important aspects of the project are presented (5 minutes). The aim is to promote own work and convince examiners to come and get more information\n",
    "    - In Part 2, each student/group hangs a poster on the wall and explains the work to the examiners.  "
   ]
  },
  {
   "cell_type": "code",
   "execution_count": 72,
   "metadata": {},
   "outputs": [],
   "source": [
    "import polars as pl\n",
    "import seaborn as sns"
   ]
  },
  {
   "cell_type": "code",
   "execution_count": 71,
   "metadata": {},
   "outputs": [
    {
     "name": "stdout",
     "output_type": "stream",
     "text": [
      "shape: (1_484, 10)\n",
      "┌───────────────┬──────┬──────┬──────┬───┬─────┬──────┬──────┬───────────────────┐\n",
      "│ Sequence_Name ┆ mcg  ┆ gvh  ┆ alm  ┆ … ┆ pox ┆ vac  ┆ nuc  ┆ localization_site │\n",
      "│ ---           ┆ ---  ┆ ---  ┆ ---  ┆   ┆ --- ┆ ---  ┆ ---  ┆ ---               │\n",
      "│ str           ┆ f64  ┆ f64  ┆ f64  ┆   ┆ f64 ┆ f64  ┆ f64  ┆ str               │\n",
      "╞═══════════════╪══════╪══════╪══════╪═══╪═════╪══════╪══════╪═══════════════════╡\n",
      "│ ADT1_YEAST    ┆ 0.58 ┆ 0.61 ┆ 0.47 ┆ … ┆ 0.0 ┆ 0.48 ┆ 0.22 ┆ MIT               │\n",
      "│ ADT2_YEAST    ┆ 0.43 ┆ 0.67 ┆ 0.48 ┆ … ┆ 0.0 ┆ 0.53 ┆ 0.22 ┆ MIT               │\n",
      "│ ADT3_YEAST    ┆ 0.64 ┆ 0.62 ┆ 0.49 ┆ … ┆ 0.0 ┆ 0.53 ┆ 0.22 ┆ MIT               │\n",
      "│ AAR2_YEAST    ┆ 0.58 ┆ 0.44 ┆ 0.57 ┆ … ┆ 0.0 ┆ 0.54 ┆ 0.22 ┆ NUC               │\n",
      "│ AATM_YEAST    ┆ 0.42 ┆ 0.44 ┆ 0.48 ┆ … ┆ 0.0 ┆ 0.48 ┆ 0.22 ┆ MIT               │\n",
      "│ …             ┆ …    ┆ …    ┆ …    ┆ … ┆ …   ┆ …    ┆ …    ┆ …                 │\n",
      "│ YUR1_YEAST    ┆ 0.81 ┆ 0.62 ┆ 0.43 ┆ … ┆ 0.0 ┆ 0.53 ┆ 0.22 ┆ ME2               │\n",
      "│ ZIP1_YEAST    ┆ 0.47 ┆ 0.43 ┆ 0.61 ┆ … ┆ 0.0 ┆ 0.48 ┆ 0.47 ┆ NUC               │\n",
      "│ ZNRP_YEAST    ┆ 0.67 ┆ 0.57 ┆ 0.36 ┆ … ┆ 0.0 ┆ 0.56 ┆ 0.22 ┆ ME2               │\n",
      "│ ZUO1_YEAST    ┆ 0.43 ┆ 0.4  ┆ 0.6  ┆ … ┆ 0.0 ┆ 0.53 ┆ 0.39 ┆ NUC               │\n",
      "│ G6PD_YEAST    ┆ 0.65 ┆ 0.54 ┆ 0.54 ┆ … ┆ 0.0 ┆ 0.53 ┆ 0.22 ┆ CYT               │\n",
      "└───────────────┴──────┴──────┴──────┴───┴─────┴──────┴──────┴───────────────────┘\n"
     ]
    }
   ],
   "source": [
    "# Read the dataset\n",
    "df = pl.read_csv(\"yeast/yeast.data\", separator=' ', truncate_ragged_lines=True, has_header=False)\n",
    "\n",
    "# Drop the columns with the odd index\n",
    "df = df.drop(df.columns[1::2])\n",
    "\n",
    "# Rename the columns\n",
    "df.columns = [\"Sequence_Name\", \"mcg\", \"gvh\", \"alm\", \"mit\", \"erl\", \"pox\", \"vac\", \"nuc\", \"localization_site\"]\n",
    "\n",
    "print(df)"
   ]
  }
 ],
 "metadata": {
  "kernelspec": {
   "display_name": "Python 3",
   "language": "python",
   "name": "python3"
  },
  "language_info": {
   "codemirror_mode": {
    "name": "ipython",
    "version": 3
   },
   "file_extension": ".py",
   "mimetype": "text/x-python",
   "name": "python",
   "nbconvert_exporter": "python",
   "pygments_lexer": "ipython3",
   "version": "3.11.9"
  }
 },
 "nbformat": 4,
 "nbformat_minor": 2
}
