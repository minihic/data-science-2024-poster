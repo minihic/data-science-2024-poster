{
 "cells": [
  {
   "cell_type": "markdown",
   "metadata": {},
   "source": [
    "# Data Science - Poster Workshop\n",
    "\n",
    "## How can we analyze data in order to discover new insights that are eventually in?\n",
    "\n",
    "We are using the Yeast dataset from:     \n",
    "\n",
    "    Kenta Nakai\n",
    "    Institue of Molecular and Cellular Biology\n",
    "\tOsaka, University\n",
    "\t1-3 Yamada-oka, Suita 565 Japan\n",
    "    nakai@imcb.osaka-u.ac.jp\n",
    "    http://www.imcb.osaka-u.ac.jp/nakai/psort.html\n",
    "    Donor: Paul Horton (paulh@cs.berkeley.edu)\n",
    "    Date:  September, 1996\n",
    "    See also: ecoli database\n",
    "\n",
    "This dataset is available here in the [UCI Archive](https://archive.ics.uci.edu/dataset/110/yeast)\n",
    "\n",
    "For this data science poster workshop we will be seeing different ways of classifying the data"
   ]
  },
  {
   "cell_type": "markdown",
   "metadata": {},
   "source": [
    "## Basic Data Preperation and Exploration"
   ]
  },
  {
   "cell_type": "code",
   "execution_count": 9,
   "metadata": {},
   "outputs": [],
   "source": [
    "# Imports\n",
    "import pandas as pd\n",
    "import seaborn as sns\n",
    "import numpy as np"
   ]
  },
  {
   "cell_type": "code",
   "execution_count": 10,
   "metadata": {},
   "outputs": [
    {
     "name": "stdout",
     "output_type": "stream",
     "text": [
      "<class 'pandas.core.frame.DataFrame'>\n",
      "RangeIndex: 1484 entries, 0 to 1483\n",
      "Data columns (total 10 columns):\n",
      " #   Column             Non-Null Count  Dtype  \n",
      "---  ------             --------------  -----  \n",
      " 0   Sequence_Name      1484 non-null   object \n",
      " 1   mcg                1484 non-null   float64\n",
      " 2   gvh                1484 non-null   float64\n",
      " 3   alm                1484 non-null   float64\n",
      " 4   mit                1484 non-null   float64\n",
      " 5   erl                1484 non-null   float64\n",
      " 6   pox                1484 non-null   float64\n",
      " 7   vac                1484 non-null   float64\n",
      " 8   nuc                1484 non-null   float64\n",
      " 9   localization_site  1484 non-null   object \n",
      "dtypes: float64(8), object(2)\n",
      "memory usage: 116.1+ KB\n"
     ]
    }
   ],
   "source": [
    "data = pd.read_csv(\"yeast/yeast.data\", header=None, sep='\\s+', engine='python')\n",
    "\n",
    "data.columns = [\"Sequence_Name\", \"mcg\", \"gvh\", \"alm\", \"mit\", \"erl\", \"pox\", \"vac\", \"nuc\", \"localization_site\"]\n",
    "\n",
    "data.info()\n"
   ]
  },
  {
   "cell_type": "markdown",
   "metadata": {},
   "source": [
    "The goal of this poster is to predict our target \"localization_site\" based on the 8 features given.\n",
    "\n",
    "We will perform classification on using multiple different models and evaluate the performance of each model based on its accuracy and precision.\n",
    "\n",
    "Finaly we will look at overall insights we can draw from this analysis."
   ]
  },
  {
   "cell_type": "code",
   "execution_count": 11,
   "metadata": {},
   "outputs": [
    {
     "name": "stdout",
     "output_type": "stream",
     "text": [
      "localization_site\n",
      "CYT    463\n",
      "NUC    429\n",
      "MIT    244\n",
      "ME3    163\n",
      "ME2     51\n",
      "ME1     44\n",
      "EXC     35\n",
      "VAC     30\n",
      "POX     20\n",
      "ERL      5\n",
      "Name: count, dtype: int64\n"
     ]
    },
    {
     "data": {
      "text/plain": [
       "<seaborn.axisgrid.FacetGrid at 0x78e90c12cc90>"
      ]
     },
     "execution_count": 11,
     "metadata": {},
     "output_type": "execute_result"
    },
    {
     "data": {
      "image/png": "[encoded data removed]",
      "text/plain": [
       "<Figure size 511.111x500 with 1 Axes>"
      ]
     },
     "metadata": {},
     "output_type": "display_data"
    }
   ],
   "source": [
    "# The number of different occurences for each localization sites\n",
    "print(data['localization_site'].value_counts())\n",
    "\n",
    "# Setup localization_site as a category\n",
    "data[\"localization_site\"] = data[\"localization_site\"].astype('category')\n",
    "\n",
    "# Plots the number of different occurences for each localization sites\n",
    "sns.catplot(data, x=\"localization_site\", kind=\"count\")"
   ]
  },
  {
   "cell_type": "markdown",
   "metadata": {},
   "source": [
    "We can see in the plot above the different amounts of localization sites in the whole dataset. This could impact our later models and their performance."
   ]
  },
  {
   "cell_type": "markdown",
   "metadata": {},
   "source": [
    "## Analysis using different Models"
   ]
  },
  {
   "cell_type": "code",
   "execution_count": 12,
   "metadata": {},
   "outputs": [],
   "source": [
    "# Preparing the data for training\n",
    "\n",
    "from sklearn.preprocessing import LabelEncoder\n",
    "from sklearn.model_selection import train_test_split\n",
    "\n",
    "X = data.iloc[:, 1:-1]\n",
    "y = data.iloc[:, -1]\n",
    "\n",
    "# Encoding the target variable into integers\n",
    "label_encoder = LabelEncoder()\n",
    "y_encoded = label_encoder.fit_transform(y)\n",
    "\n",
    "# Splitting the data into training and testing sets\n",
    "X_train, X_test, y_train, y_test = train_test_split(X, y_encoded, test_size=0.2, random_state=42)"
   ]
  },
  {
   "cell_type": "code",
   "execution_count": 16,
   "metadata": {},
   "outputs": [
    {
     "name": "stdout",
     "output_type": "stream",
     "text": [
      "Logistic Regression Accuracy:              0.5858585858585859\n",
      "Random Forest Accuracy:                    0.6262626262626263\n",
      "Support Vector Classification Accuracy:    0.6127946127946128\n",
      "Gradient Boosting Accuracy:                0.5824915824915825\n",
      "Neural Network Accuracy:                   0.6060606060606061\n",
      " \n",
      "Logistic Regression Precision:             0.5665943489919686\n",
      "Random Forest Precision:                   0.614308517640491\n",
      "Support Vector Classification Precision:   0.6110173004900408\n",
      "Gradient Boosting Precision:               0.5812503422754443\n",
      "Neural Network Precision:                  0.6014615376539453\n"
     ]
    }
   ],
   "source": [
    "# Basic Models\n",
    "\n",
    "from sklearn.linear_model import LogisticRegression\n",
    "from sklearn.ensemble import RandomForestClassifier\n",
    "from sklearn.svm import SVC\n",
    "from sklearn.ensemble import GradientBoostingClassifier\n",
    "from sklearn.neural_network import MLPClassifier\n",
    "from sklearn.metrics import accuracy_score, precision_score, classification_report\n",
    "from sklearn.exceptions import UndefinedMetricWarning\n",
    "import warnings\n",
    "warnings.filterwarnings(\"ignore\", category=UndefinedMetricWarning)\n",
    "\n",
    "# Logistic Regression Model\n",
    "logistic_model = LogisticRegression(max_iter=1000)\n",
    "logistic_model.fit(X_train, y_train)\n",
    "logistic_predictions = logistic_model.predict(X_test)\n",
    "\n",
    "# Random Forest Model\n",
    "random_forest_model = RandomForestClassifier(n_estimators=100, random_state=42)\n",
    "random_forest_model.fit(X_train, y_train)\n",
    "forest_predictions = random_forest_model.predict(X_test)\n",
    "\n",
    "# Support Vector Classification Model\n",
    "support_vector_model = SVC()\n",
    "support_vector_model.fit(X_train, y_train)\n",
    "support_vector_predictions = support_vector_model.predict(X_test)\n",
    "\n",
    "# Gradient Boost Model for Classification\n",
    "gradient_boost_model = GradientBoostingClassifier()\n",
    "gradient_boost_model.fit(X_train, y_train)\n",
    "gradient_boost_predictions = gradient_boost_model.predict(X_test)\n",
    "\n",
    "# Neural Network Model using MLP Classifier\n",
    "neural_network_model = MLPClassifier(hidden_layer_sizes=(100, 100), max_iter=1000)\n",
    "neural_network_model.fit(X_train, y_train)\n",
    "neural_network_predictions = neural_network_model.predict(X_test)\n",
    "\n",
    "# Model Accuracy Evaluation\n",
    "logistic_accuracy = accuracy_score(y_test, logistic_predictions)\n",
    "forest_accuracy = accuracy_score(y_test, forest_predictions)\n",
    "support_vector_model_accuracy = accuracy_score(y_test, support_vector_predictions)\n",
    "gradient_boost_model_accuracy = accuracy_score(y_test, gradient_boost_predictions)\n",
    "neural_network_model_accuracy = accuracy_score(y_test, neural_network_predictions)\n",
    "\n",
    "print(\"Logistic Regression Accuracy:             \", logistic_accuracy)\n",
    "print(\"Random Forest Accuracy:                   \", forest_accuracy)\n",
    "print(\"Support Vector Classification Accuracy:   \", support_vector_model_accuracy)\n",
    "print(\"Gradient Boosting Accuracy:               \", gradient_boost_model_accuracy)\n",
    "print(\"Neural Network Accuracy:                  \", neural_network_model_accuracy)\n",
    "\n",
    "print(\" \")\n",
    "\n",
    "# Model Precision Evaluation\n",
    "logistic_precision = precision_score(y_test, logistic_predictions, average='weighted')\n",
    "forest_precision = precision_score(y_test, forest_predictions, average='weighted')\n",
    "support_vector_model_precision = precision_score(y_test, support_vector_predictions, average='weighted')\n",
    "gradient_boost_model_precision = precision_score(y_test, gradient_boost_predictions, average='weighted')\n",
    "neural_network_model_precision = precision_score(y_test, neural_network_predictions, average='weighted')\n",
    "\n",
    "print(\"Logistic Regression Precision:            \", logistic_precision)\n",
    "print(\"Random Forest Precision:                  \", forest_precision)\n",
    "print(\"Support Vector Classification Precision:  \", support_vector_model_precision)\n",
    "print(\"Gradient Boosting Precision:              \", gradient_boost_model_precision)\n",
    "print(\"Neural Network Precision:                 \", neural_network_model_precision)\n",
    "\n",
    "# print(\"\\nLogistic Regression Classification Report:\")\n",
    "# print(classification_report(y_test, logistic_predictions, labels=label_encoder.transform(label_encoder.classes_), target_names=label_encoder.classes_))\n",
    "# print(\"\\nRandom Forest Classification Report:\")\n",
    "# print(classification_report(y_test, forest_predictions, labels=label_encoder.transform(label_encoder.classes_), target_names=label_encoder.classes_))"
   ]
  },
  {
   "cell_type": "markdown",
   "metadata": {},
   "source": [
    "We see with the accuracy scores above we may have reached a certain threshold with our models.\n",
    "We can further explore the limitation by using cross validation."
   ]
  },
  {
   "cell_type": "code",
   "execution_count": 14,
   "metadata": {},
   "outputs": [
    {
     "name": "stdout",
     "output_type": "stream",
     "text": [
      "Logistic Regression Cross-Validation Accuracy Scores:   [0.55218855 0.53872054 0.51851852 0.55743243]\n",
      "Average Logistic Regression CV Accuracy:                0.5417150104650105\n",
      "Random Forest Cross-Validation Accuracy Scores:         [0.57239057 0.61952862 0.59259259 0.62162162]\n",
      "Average Random Forest CV Accuracy:                      0.6015333515333515\n"
     ]
    }
   ],
   "source": [
    "from sklearn.model_selection import cross_val_score, KFold\n",
    "\n",
    "kfold = KFold(n_splits=4, shuffle=True, random_state=42)\n",
    "\n",
    "\n",
    "logistic_model = LogisticRegression(max_iter=1000)\n",
    "logistic_cv_scores = cross_val_score(logistic_model, X_train, y_train, cv=kfold, scoring='accuracy')\n",
    "\n",
    "random_forest_model = RandomForestClassifier(n_estimators=100, random_state=42)\n",
    "forest_cv_scores = cross_val_score(random_forest_model, X_train, y_train, cv=kfold, scoring='accuracy')\n",
    "\n",
    "print(\"Logistic Regression Cross-Validation Accuracy Scores:  \", logistic_cv_scores)\n",
    "print(\"Average Logistic Regression CV Accuracy:               \", logistic_cv_scores.mean())\n",
    "print(\"Random Forest Cross-Validation Accuracy Scores:        \", forest_cv_scores)\n",
    "print(\"Average Random Forest CV Accuracy:                     \", forest_cv_scores.mean())"
   ]
  },
  {
   "cell_type": "markdown",
   "metadata": {},
   "source": [
    "Cross Validation\n",
    "Class imbalance"
   ]
  }
 ],
 "metadata": {
  "kernelspec": {
   "display_name": "Python 3",
   "language": "python",
   "name": "python3"
  },
  "language_info": {
   "codemirror_mode": {
    "name": "ipython",
    "version": 3
   },
   "file_extension": ".py",
   "mimetype": "text/x-python",
   "name": "python",
   "nbconvert_exporter": "python",
   "pygments_lexer": "ipython3",
   "version": "3.11.9"
  }
 },
 "nbformat": 4,
 "nbformat_minor": 2
}
