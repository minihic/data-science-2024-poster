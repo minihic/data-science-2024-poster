{
 "cells": [
  {
   "cell_type": "markdown",
   "metadata": {},
   "source": [
    "# Data Science - Poster Workshop\n",
    "# How can we analyze data in order to discover new insights that are eventually in?\n",
    "\n",
    "We are using the Yeast dataset from:     \n",
    "\n",
    "    Kenta Nakai\n",
    "    Institue of Molecular and Cellular Biology\n",
    "\tOsaka, University\n",
    "\t1-3 Yamada-oka, Suita 565 Japan\n",
    "    nakai@imcb.osaka-u.ac.jp\n",
    "    http://www.imcb.osaka-u.ac.jp/nakai/psort.html\n",
    "    Donor: Paul Horton (paulh@cs.berkeley.edu)\n",
    "    Date:  September, 1996\n",
    "    See also: ecoli database\n",
    "\n",
    "This dataset is available here in the [UCI Archive](https://archive.ics.uci.edu/dataset/110/yeast)\n",
    "\n",
    "For this data science poster workshop we will be seeing different ways of classifying the data"
   ]
  },
  {
   "cell_type": "markdown",
   "metadata": {},
   "source": [
    "### Here are the poster workshop specifications\n",
    "\n",
    "- The pw is organised at the end of the semester. The pw is based on the presentation of project.\n",
    "- A student can participate individually or as a member of a group of up to 3 students and thus take part in the project.\n",
    "- A project is defined as a performance in the sense of data science on a data set that is provided. Possibly, 2 or 3 data sets will be presented and each group can choose 1 of them.\n",
    "- The project work consists of demonstrating an aspect of the course using the selected dataset. The terminology must be used.\n",
    "- The PW is divided into two parts: \n",
    "\n",
    "    - Part 1 is an \"appetiser\" presentation in which the most important aspects of the project are presented (5 minutes). The aim is to promote own work and convince examiners to come and get more information\n",
    "    - In Part 2, each student/group hangs a poster on the wall and explains the work to the examiners.  "
   ]
  },
  {
   "cell_type": "code",
   "execution_count": 34,
   "metadata": {},
   "outputs": [],
   "source": [
    "# Imports\n",
    "import pandas as pd\n",
    "import seaborn as sns\n",
    "import numpy as np"
   ]
  },
  {
   "cell_type": "code",
   "execution_count": 35,
   "metadata": {},
   "outputs": [
    {
     "name": "stdout",
     "output_type": "stream",
     "text": [
      "<class 'pandas.core.frame.DataFrame'>\n",
      "RangeIndex: 1484 entries, 0 to 1483\n",
      "Data columns (total 10 columns):\n",
      " #   Column             Non-Null Count  Dtype  \n",
      "---  ------             --------------  -----  \n",
      " 0   Sequence_Name      1484 non-null   object \n",
      " 1   mcg                1484 non-null   float64\n",
      " 2   gvh                1484 non-null   float64\n",
      " 3   alm                1484 non-null   float64\n",
      " 4   mit                1484 non-null   float64\n",
      " 5   erl                1484 non-null   float64\n",
      " 6   pox                1484 non-null   float64\n",
      " 7   vac                1484 non-null   float64\n",
      " 8   nuc                1484 non-null   float64\n",
      " 9   localization_site  1484 non-null   object \n",
      "dtypes: float64(8), object(2)\n",
      "memory usage: 116.1+ KB\n"
     ]
    }
   ],
   "source": [
    "data = pd.read_csv(\"yeast/yeast.data\", header=None, sep='\\s+', engine='python')\n",
    "\n",
    "data.columns = [\"Sequence_Name\", \"mcg\", \"gvh\", \"alm\", \"mit\", \"erl\", \"pox\", \"vac\", \"nuc\", \"localization_site\"]\n",
    "\n",
    "data.info()\n"
   ]
  },
  {
   "cell_type": "code",
   "execution_count": 36,
   "metadata": {},
   "outputs": [
    {
     "data": {
      "text/html": [
       "<div>\n",
       "<style scoped>\n",
       "    .dataframe tbody tr th:only-of-type {\n",
       "        vertical-align: middle;\n",
       "    }\n",
       "\n",
       "    .dataframe tbody tr th {\n",
       "        vertical-align: top;\n",
       "    }\n",
       "\n",
       "    .dataframe thead th {\n",
       "        text-align: right;\n",
       "    }\n",
       "</style>\n",
       "<table border=\"1\" class=\"dataframe\">\n",
       "  <thead>\n",
       "    <tr style=\"text-align: right;\">\n",
       "      <th></th>\n",
       "      <th>Sequence_Name</th>\n",
       "      <th>mcg</th>\n",
       "      <th>gvh</th>\n",
       "      <th>alm</th>\n",
       "      <th>mit</th>\n",
       "      <th>erl</th>\n",
       "      <th>pox</th>\n",
       "      <th>vac</th>\n",
       "      <th>nuc</th>\n",
       "      <th>localization_site</th>\n",
       "    </tr>\n",
       "  </thead>\n",
       "  <tbody>\n",
       "    <tr>\n",
       "      <th>0</th>\n",
       "      <td>ADT1_YEAST</td>\n",
       "      <td>0.58</td>\n",
       "      <td>0.61</td>\n",
       "      <td>0.47</td>\n",
       "      <td>0.13</td>\n",
       "      <td>0.5</td>\n",
       "      <td>0.0</td>\n",
       "      <td>0.48</td>\n",
       "      <td>0.22</td>\n",
       "      <td>MIT</td>\n",
       "    </tr>\n",
       "    <tr>\n",
       "      <th>1</th>\n",
       "      <td>ADT2_YEAST</td>\n",
       "      <td>0.43</td>\n",
       "      <td>0.67</td>\n",
       "      <td>0.48</td>\n",
       "      <td>0.27</td>\n",
       "      <td>0.5</td>\n",
       "      <td>0.0</td>\n",
       "      <td>0.53</td>\n",
       "      <td>0.22</td>\n",
       "      <td>MIT</td>\n",
       "    </tr>\n",
       "    <tr>\n",
       "      <th>2</th>\n",
       "      <td>ADT3_YEAST</td>\n",
       "      <td>0.64</td>\n",
       "      <td>0.62</td>\n",
       "      <td>0.49</td>\n",
       "      <td>0.15</td>\n",
       "      <td>0.5</td>\n",
       "      <td>0.0</td>\n",
       "      <td>0.53</td>\n",
       "      <td>0.22</td>\n",
       "      <td>MIT</td>\n",
       "    </tr>\n",
       "    <tr>\n",
       "      <th>3</th>\n",
       "      <td>AAR2_YEAST</td>\n",
       "      <td>0.58</td>\n",
       "      <td>0.44</td>\n",
       "      <td>0.57</td>\n",
       "      <td>0.13</td>\n",
       "      <td>0.5</td>\n",
       "      <td>0.0</td>\n",
       "      <td>0.54</td>\n",
       "      <td>0.22</td>\n",
       "      <td>NUC</td>\n",
       "    </tr>\n",
       "    <tr>\n",
       "      <th>4</th>\n",
       "      <td>AATM_YEAST</td>\n",
       "      <td>0.42</td>\n",
       "      <td>0.44</td>\n",
       "      <td>0.48</td>\n",
       "      <td>0.54</td>\n",
       "      <td>0.5</td>\n",
       "      <td>0.0</td>\n",
       "      <td>0.48</td>\n",
       "      <td>0.22</td>\n",
       "      <td>MIT</td>\n",
       "    </tr>\n",
       "  </tbody>\n",
       "</table>\n",
       "</div>"
      ],
      "text/plain": [
       "  Sequence_Name   mcg   gvh   alm   mit  erl  pox   vac   nuc  \\\n",
       "0    ADT1_YEAST  0.58  0.61  0.47  0.13  0.5  0.0  0.48  0.22   \n",
       "1    ADT2_YEAST  0.43  0.67  0.48  0.27  0.5  0.0  0.53  0.22   \n",
       "2    ADT3_YEAST  0.64  0.62  0.49  0.15  0.5  0.0  0.53  0.22   \n",
       "3    AAR2_YEAST  0.58  0.44  0.57  0.13  0.5  0.0  0.54  0.22   \n",
       "4    AATM_YEAST  0.42  0.44  0.48  0.54  0.5  0.0  0.48  0.22   \n",
       "\n",
       "  localization_site  \n",
       "0               MIT  \n",
       "1               MIT  \n",
       "2               MIT  \n",
       "3               NUC  \n",
       "4               MIT  "
      ]
     },
     "execution_count": 36,
     "metadata": {},
     "output_type": "execute_result"
    }
   ],
   "source": [
    "data.head()"
   ]
  },
  {
   "cell_type": "markdown",
   "metadata": {},
   "source": [
    "The goal of this poster is to predict our target \"localization_site\" based on the 8 features given.\n",
    "\n",
    "We will perform classification on using multiple different models and evaluate the performance of each model based on its accuracy and precision.\n",
    "\n",
    "Finaly we will look at overall insights we can draw from this analysis."
   ]
  },
  {
   "cell_type": "code",
   "execution_count": 37,
   "metadata": {},
   "outputs": [
    {
     "name": "stdout",
     "output_type": "stream",
     "text": [
      "localization_site\n",
      "CYT    463\n",
      "NUC    429\n",
      "MIT    244\n",
      "ME3    163\n",
      "ME2     51\n",
      "ME1     44\n",
      "EXC     35\n",
      "VAC     30\n",
      "POX     20\n",
      "ERL      5\n",
      "Name: count, dtype: int64\n"
     ]
    },
    {
     "data": {
      "text/plain": [
       "<seaborn.axisgrid.FacetGrid at 0x7685e6f3fbd0>"
      ]
     },
     "execution_count": 37,
     "metadata": {},
     "output_type": "execute_result"
    },
    {
     "data": {
      "image/png": "[encoded data removed]",
      "text/plain": [
       "<Figure size 511.111x500 with 1 Axes>"
      ]
     },
     "metadata": {},
     "output_type": "display_data"
    }
   ],
   "source": [
    "# The number of different occurences for each localization sites\n",
    "print(data['localization_site'].value_counts())\n",
    "\n",
    "# Setup localization_site as a category\n",
    "data[\"localization_site\"] = data[\"localization_site\"].astype('category')\n",
    "\n",
    "# Plots the number of different occurences for each localization sites\n",
    "sns.catplot(data, x=\"localization_site\", kind=\"count\")"
   ]
  },
  {
   "cell_type": "code",
   "execution_count": 38,
   "metadata": {},
   "outputs": [],
   "source": [
    "from sklearn.preprocessing import OneHotEncoder\n",
    "\n",
    "# One hot encoding the localization_site column\n",
    "encoder = OneHotEncoder()\n",
    "encoded_results = encoder.fit_transform(data).toarray()\n",
    "\n",
    "# df_encoded = pd.get_dummies(df, columns=[\"localization_site\"], drop_first=True)\n",
    "\n",
    "# df_encoded.info()\n",
    "\n",
    "# df_encoded.head()"
   ]
  },
  {
   "cell_type": "markdown",
   "metadata": {},
   "source": [
    "[Source](https://stackabuse.com/classification-in-python-with-scikit-learn-and-pandas/)"
   ]
  },
  {
   "cell_type": "code",
   "execution_count": 39,
   "metadata": {},
   "outputs": [
    {
     "name": "stdout",
     "output_type": "stream",
     "text": [
      "Logistic Regression Accuracy: 0.5858585858585859\n",
      "Random Forest Accuracy: 0.6262626262626263\n",
      "\n",
      "Logistic Regression Classification Report:\n",
      "              precision    recall  f1-score   support\n",
      "\n",
      "         CYT       0.51      0.70      0.59        96\n",
      "         ERL       0.00      0.00      0.00         0\n",
      "         EXC       0.00      0.00      0.00         8\n",
      "         ME1       0.62      0.62      0.62         8\n",
      "         ME2       0.00      0.00      0.00         6\n",
      "         ME3       0.93      0.74      0.82        34\n",
      "         MIT       0.67      0.56      0.61        52\n",
      "         NUC       0.54      0.54      0.54        85\n",
      "         POX       1.00      1.00      1.00         2\n",
      "         VAC       0.00      0.00      0.00         6\n",
      "\n",
      "   micro avg       0.59      0.59      0.59       297\n",
      "   macro avg       0.43      0.42      0.42       297\n",
      "weighted avg       0.57      0.59      0.57       297\n",
      "\n",
      "\n",
      "Random Forest Classification Report:\n",
      "              precision    recall  f1-score   support\n",
      "\n",
      "         CYT       0.62      0.61      0.62        96\n",
      "         ERL       0.00      0.00      0.00         0\n",
      "         EXC       0.44      0.50      0.47         8\n",
      "         ME1       0.83      0.62      0.71         8\n",
      "         ME2       0.50      0.50      0.50         6\n",
      "         ME3       0.74      0.94      0.83        34\n",
      "         MIT       0.67      0.58      0.62        52\n",
      "         NUC       0.56      0.60      0.58        85\n",
      "         POX       1.00      1.00      1.00         2\n",
      "         VAC       0.00      0.00      0.00         6\n",
      "\n",
      "   micro avg       0.63      0.63      0.63       297\n",
      "   macro avg       0.54      0.54      0.53       297\n",
      "weighted avg       0.61      0.63      0.62       297\n",
      "\n"
     ]
    },
    {
     "name": "stderr",
     "output_type": "stream",
     "text": [
      "/home/minihic/repos/data-science-2024-poster/.conda-ds1/lib/python3.11/site-packages/sklearn/metrics/_classification.py:1509: UndefinedMetricWarning: Precision is ill-defined and being set to 0.0 in labels with no predicted samples. Use `zero_division` parameter to control this behavior.\n",
      "  _warn_prf(average, modifier, f\"{metric.capitalize()} is\", len(result))\n",
      "/home/minihic/repos/data-science-2024-poster/.conda-ds1/lib/python3.11/site-packages/sklearn/metrics/_classification.py:1509: UndefinedMetricWarning: Recall is ill-defined and being set to 0.0 in labels with no true samples. Use `zero_division` parameter to control this behavior.\n",
      "  _warn_prf(average, modifier, f\"{metric.capitalize()} is\", len(result))\n",
      "/home/minihic/repos/data-science-2024-poster/.conda-ds1/lib/python3.11/site-packages/sklearn/metrics/_classification.py:1509: UndefinedMetricWarning: F-score is ill-defined and being set to 0.0 in labels with no true nor predicted samples. Use `zero_division` parameter to control this behavior.\n",
      "  _warn_prf(average, modifier, f\"{metric.capitalize()} is\", len(result))\n",
      "/home/minihic/repos/data-science-2024-poster/.conda-ds1/lib/python3.11/site-packages/sklearn/metrics/_classification.py:1509: UndefinedMetricWarning: Precision is ill-defined and being set to 0.0 in labels with no predicted samples. Use `zero_division` parameter to control this behavior.\n",
      "  _warn_prf(average, modifier, f\"{metric.capitalize()} is\", len(result))\n",
      "/home/minihic/repos/data-science-2024-poster/.conda-ds1/lib/python3.11/site-packages/sklearn/metrics/_classification.py:1509: UndefinedMetricWarning: Recall is ill-defined and being set to 0.0 in labels with no true samples. Use `zero_division` parameter to control this behavior.\n",
      "  _warn_prf(average, modifier, f\"{metric.capitalize()} is\", len(result))\n",
      "/home/minihic/repos/data-science-2024-poster/.conda-ds1/lib/python3.11/site-packages/sklearn/metrics/_classification.py:1509: UndefinedMetricWarning: F-score is ill-defined and being set to 0.0 in labels with no true nor predicted samples. Use `zero_division` parameter to control this behavior.\n",
      "  _warn_prf(average, modifier, f\"{metric.capitalize()} is\", len(result))\n",
      "/home/minihic/repos/data-science-2024-poster/.conda-ds1/lib/python3.11/site-packages/sklearn/metrics/_classification.py:1509: UndefinedMetricWarning: Precision is ill-defined and being set to 0.0 in labels with no predicted samples. Use `zero_division` parameter to control this behavior.\n",
      "  _warn_prf(average, modifier, f\"{metric.capitalize()} is\", len(result))\n",
      "/home/minihic/repos/data-science-2024-poster/.conda-ds1/lib/python3.11/site-packages/sklearn/metrics/_classification.py:1509: UndefinedMetricWarning: Recall is ill-defined and being set to 0.0 in labels with no true samples. Use `zero_division` parameter to control this behavior.\n",
      "  _warn_prf(average, modifier, f\"{metric.capitalize()} is\", len(result))\n",
      "/home/minihic/repos/data-science-2024-poster/.conda-ds1/lib/python3.11/site-packages/sklearn/metrics/_classification.py:1509: UndefinedMetricWarning: F-score is ill-defined and being set to 0.0 in labels with no true nor predicted samples. Use `zero_division` parameter to control this behavior.\n",
      "  _warn_prf(average, modifier, f\"{metric.capitalize()} is\", len(result))\n",
      "/home/minihic/repos/data-science-2024-poster/.conda-ds1/lib/python3.11/site-packages/sklearn/metrics/_classification.py:1509: UndefinedMetricWarning: Precision is ill-defined and being set to 0.0 in labels with no predicted samples. Use `zero_division` parameter to control this behavior.\n",
      "  _warn_prf(average, modifier, f\"{metric.capitalize()} is\", len(result))\n",
      "/home/minihic/repos/data-science-2024-poster/.conda-ds1/lib/python3.11/site-packages/sklearn/metrics/_classification.py:1509: UndefinedMetricWarning: Recall is ill-defined and being set to 0.0 in labels with no true samples. Use `zero_division` parameter to control this behavior.\n",
      "  _warn_prf(average, modifier, f\"{metric.capitalize()} is\", len(result))\n",
      "/home/minihic/repos/data-science-2024-poster/.conda-ds1/lib/python3.11/site-packages/sklearn/metrics/_classification.py:1509: UndefinedMetricWarning: F-score is ill-defined and being set to 0.0 in labels with no true nor predicted samples. Use `zero_division` parameter to control this behavior.\n",
      "  _warn_prf(average, modifier, f\"{metric.capitalize()} is\", len(result))\n",
      "/home/minihic/repos/data-science-2024-poster/.conda-ds1/lib/python3.11/site-packages/sklearn/metrics/_classification.py:1509: UndefinedMetricWarning: Precision is ill-defined and being set to 0.0 in labels with no predicted samples. Use `zero_division` parameter to control this behavior.\n",
      "  _warn_prf(average, modifier, f\"{metric.capitalize()} is\", len(result))\n",
      "/home/minihic/repos/data-science-2024-poster/.conda-ds1/lib/python3.11/site-packages/sklearn/metrics/_classification.py:1509: UndefinedMetricWarning: Recall is ill-defined and being set to 0.0 in labels with no true samples. Use `zero_division` parameter to control this behavior.\n",
      "  _warn_prf(average, modifier, f\"{metric.capitalize()} is\", len(result))\n",
      "/home/minihic/repos/data-science-2024-poster/.conda-ds1/lib/python3.11/site-packages/sklearn/metrics/_classification.py:1509: UndefinedMetricWarning: F-score is ill-defined and being set to 0.0 in labels with no true nor predicted samples. Use `zero_division` parameter to control this behavior.\n",
      "  _warn_prf(average, modifier, f\"{metric.capitalize()} is\", len(result))\n",
      "/home/minihic/repos/data-science-2024-poster/.conda-ds1/lib/python3.11/site-packages/sklearn/metrics/_classification.py:1509: UndefinedMetricWarning: Precision is ill-defined and being set to 0.0 in labels with no predicted samples. Use `zero_division` parameter to control this behavior.\n",
      "  _warn_prf(average, modifier, f\"{metric.capitalize()} is\", len(result))\n",
      "/home/minihic/repos/data-science-2024-poster/.conda-ds1/lib/python3.11/site-packages/sklearn/metrics/_classification.py:1509: UndefinedMetricWarning: Recall is ill-defined and being set to 0.0 in labels with no true samples. Use `zero_division` parameter to control this behavior.\n",
      "  _warn_prf(average, modifier, f\"{metric.capitalize()} is\", len(result))\n",
      "/home/minihic/repos/data-science-2024-poster/.conda-ds1/lib/python3.11/site-packages/sklearn/metrics/_classification.py:1509: UndefinedMetricWarning: F-score is ill-defined and being set to 0.0 in labels with no true nor predicted samples. Use `zero_division` parameter to control this behavior.\n",
      "  _warn_prf(average, modifier, f\"{metric.capitalize()} is\", len(result))\n"
     ]
    }
   ],
   "source": [
    "# Basic Logistic Regression Model / Random Forest Model\n",
    "\n",
    "from sklearn.model_selection import train_test_split\n",
    "from sklearn.preprocessing import LabelEncoder\n",
    "from sklearn.linear_model import LogisticRegression\n",
    "from sklearn.ensemble import RandomForestClassifier\n",
    "from sklearn.metrics import accuracy_score, classification_report\n",
    "\n",
    "X = data.iloc[:, 1:-1]\n",
    "y = data.iloc[:, -1]\n",
    "\n",
    "# Encoding the target variable into integers\n",
    "label_encoder = LabelEncoder()\n",
    "y_encoded = label_encoder.fit_transform(y)\n",
    "\n",
    "# Splitting the data into training and testing sets\n",
    "X_train, X_test, y_train, y_test = train_test_split(X, y_encoded, test_size=0.2, random_state=42)\n",
    "\n",
    "# Logistic Regression Model\n",
    "logistic_model = LogisticRegression(max_iter=1000)\n",
    "logistic_model.fit(X_train, y_train)\n",
    "logistic_predictions = logistic_model.predict(X_test)\n",
    "\n",
    "# Random Forest Model\n",
    "random_forest_model = RandomForestClassifier(n_estimators=100, random_state=42)\n",
    "random_forest_model.fit(X_train, y_train)\n",
    "forest_predictions = random_forest_model.predict(X_test)\n",
    "\n",
    "logistic_accuracy = accuracy_score(y_test, logistic_predictions)\n",
    "forest_accuracy = accuracy_score(y_test, forest_predictions)\n",
    "\n",
    "print(\"Logistic Regression Accuracy:\", logistic_accuracy)\n",
    "print(\"Random Forest Accuracy:\", forest_accuracy)\n",
    "print(\"\\nLogistic Regression Classification Report:\")\n",
    "print(classification_report(y_test, logistic_predictions, labels=label_encoder.transform(label_encoder.classes_), target_names=label_encoder.classes_))\n",
    "print(\"\\nRandom Forest Classification Report:\")\n",
    "print(classification_report(y_test, forest_predictions, labels=label_encoder.transform(label_encoder.classes_), target_names=label_encoder.classes_))"
   ]
  },
  {
   "cell_type": "code",
   "execution_count": 40,
   "metadata": {},
   "outputs": [
    {
     "name": "stdout",
     "output_type": "stream",
     "text": [
      "Logistic Regression Cross-Validation Accuracy Scores: [0.55882353 0.5        0.56118143 0.56118143 0.52742616]\n",
      "Average Logistic Regression CV Accuracy: 0.5417225117895259\n",
      "Random Forest Cross-Validation Accuracy Scores: [0.6092437  0.61344538 0.60337553 0.57383966 0.64135021]\n",
      "Average Random Forest CV Accuracy: 0.6082508952948269\n"
     ]
    }
   ],
   "source": [
    "from sklearn.model_selection import cross_val_score, KFold\n",
    "\n",
    "kfold = KFold(n_splits=5, shuffle=True, random_state=42)\n",
    "\n",
    "logistic_model = LogisticRegression(max_iter=1000)\n",
    "logistic_cv_scores = cross_val_score(logistic_model, X_train, y_train, cv=kfold, scoring='accuracy')\n",
    "\n",
    "random_forest_model = RandomForestClassifier(n_estimators=100, random_state=42)\n",
    "forest_cv_scores = cross_val_score(random_forest_model, X_train, y_train, cv=kfold, scoring='accuracy')\n",
    "\n",
    "print(\"Logistic Regression Cross-Validation Accuracy Scores:\", logistic_cv_scores)\n",
    "print(\"Average Logistic Regression CV Accuracy:\", logistic_cv_scores.mean())\n",
    "print(\"Random Forest Cross-Validation Accuracy Scores:\", forest_cv_scores)\n",
    "print(\"Average Random Forest CV Accuracy:\", forest_cv_scores.mean())\n",
    "\n",
    "\n"
   ]
  },
  {
   "cell_type": "markdown",
   "metadata": {},
   "source": [
    "Cross Validation\n",
    "Class imbalance"
   ]
  }
 ],
 "metadata": {
  "kernelspec": {
   "display_name": "Python 3",
   "language": "python",
   "name": "python3"
  },
  "language_info": {
   "codemirror_mode": {
    "name": "ipython",
    "version": 3
   },
   "file_extension": ".py",
   "mimetype": "text/x-python",
   "name": "python",
   "nbconvert_exporter": "python",
   "pygments_lexer": "ipython3",
   "version": "3.11.9"
  }
 },
 "nbformat": 4,
 "nbformat_minor": 2
}
